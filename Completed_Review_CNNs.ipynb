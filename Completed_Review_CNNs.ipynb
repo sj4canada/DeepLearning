{
 "cells": [
  {
   "cell_type": "markdown",
   "id": "7a54ccbe",
   "metadata": {},
   "source": [
    "## Convolutions"
   ]
  },
  {
   "cell_type": "code",
   "execution_count": null,
   "id": "63d8b9e7",
   "metadata": {},
   "outputs": [],
   "source": [
    "import numpy as np\n",
    "\n",
    "rng = np.random.default_rng(123)\n",
    "\n",
    "x = rng.integers(0, 10, size=(6, 6)) \n",
    "print(f'{x=}')\n",
    "print()\n",
    "f3 = rng.integers(-3, 3, size=(3, 3)) \n",
    "print(f'{f3=}')\n",
    "print()\n",
    "\n",
    "f5 = rng.integers(-3, 3, size=(5, 5)) \n",
    "print(f'{f5=}')\n",
    "print()\n"
   ]
  },
  {
   "cell_type": "markdown",
   "id": "81894435",
   "metadata": {},
   "source": [
    "Calculate via code the convolutional output of the above array and the filters `f3` and `f5` assuming:\n",
    " - `padding=\"valid\"`\n",
    " - `padding=\"same\"` (see if `np.pad()` helps)\n",
    " \n",
    "Verify a few calculations by hand."
   ]
  },
  {
   "cell_type": "markdown",
   "id": "df9ad269",
   "metadata": {},
   "source": [
    "## Pooling"
   ]
  },
  {
   "cell_type": "code",
   "execution_count": null,
   "id": "de0f44b1",
   "metadata": {},
   "outputs": [],
   "source": [
    "rng = np.random.default_rng(234)\n",
    "x = rng.integers(-10, 10, size=(6, 6)) \n",
    "x"
   ]
  },
  {
   "cell_type": "markdown",
   "id": "6ce0ba59",
   "metadata": {},
   "source": [
    "Calculate the output of a pooling operation assuming no padding and using a pooling layer:\n",
    " - `pool_size = (2, 2)` and `strides=2` and *Max Pooling* is used\n",
    " - `pool_size = (3, 3)` and `strides=2` and *Max Pooling* is used\n",
    " - `pool_size = (2, 2)` and `strides=1` and *Max Pooling* is used\n",
    " - `pool_size = (3, 3)` and `strides=1` and *Max Pooling* is used\n",
    " - `pool_size = (2, 2)` and `strides=2` and *Average Pooling* is used\n",
    " - `pool_size = (3, 3)` and `strides=2` and *Average Pooling* is used\n",
    " - `pool_size = (2, 2)` and `strides=1` and *Average Pooling* is used\n",
    " - `pool_size = (3, 3)` and `strides=1` and *Average Pooling* is used\n"
   ]
  },
  {
   "cell_type": "markdown",
   "id": "23e7b91b",
   "metadata": {},
   "source": [
    "## Parameter calculation"
   ]
  },
  {
   "cell_type": "markdown",
   "id": "436800ba",
   "metadata": {},
   "source": [
    "How many trainable parameters does the following model have: \n",
    "\n",
    "- input data has dimensions (180, 180, 3)\n",
    "- Conv2D(32, kernel_size=(5, 5), activation=\"relu\")\n",
    "- AveragePooling(pool_size=(2, 2), strides=2)\n",
    "- Conv2D(32, kernel_size=(5, 5), activation=\"relu\")\n",
    "- AveragePooling(pool_size=(2, 2), strides=2)\n",
    "- Flatten()\n",
    "- Dense(128, activation=\"relu\")\n",
    "- Dense(3, activation=\"softmax\")"
   ]
  },
  {
   "cell_type": "code",
   "execution_count": null,
   "id": "cd621d3e",
   "metadata": {},
   "outputs": [],
   "source": []
  },
  {
   "cell_type": "markdown",
   "id": "3e206130",
   "metadata": {},
   "source": [
    "Create fully-connected and convolutional neural networks using both the **sequential** and the **functional** API's in Keras."
   ]
  },
  {
   "cell_type": "code",
   "execution_count": null,
   "id": "6763634c",
   "metadata": {},
   "outputs": [],
   "source": []
  },
  {
   "cell_type": "markdown",
   "id": "20b1d80f",
   "metadata": {},
   "source": [
    "What do we mean by the **receptive field** of a filter in a convolutional neural network?"
   ]
  },
  {
   "cell_type": "markdown",
   "id": "7ae73770",
   "metadata": {},
   "source": [
    "What 2 properties do convolutional neural networks have that make them much more useful for images than fully-connected networks?"
   ]
  },
  {
   "cell_type": "markdown",
   "id": "62b5f91a",
   "metadata": {},
   "source": [
    "Explain/use **padding**."
   ]
  },
  {
   "cell_type": "markdown",
   "id": "90965027",
   "metadata": {},
   "source": [
    "Explain/use **strides**."
   ]
  },
  {
   "cell_type": "markdown",
   "id": "0ad04580",
   "metadata": {},
   "source": [
    "What is the purpose of a **pooling** layer?"
   ]
  },
  {
   "cell_type": "markdown",
   "id": "9303fcfe",
   "metadata": {},
   "source": [
    "What is the difference between a **parameter** and a **hyperparameter**?"
   ]
  },
  {
   "cell_type": "markdown",
   "id": "654ce927",
   "metadata": {},
   "source": [
    "What are training, validation, and test datasets used for?"
   ]
  },
  {
   "cell_type": "markdown",
   "id": "105ed313",
   "metadata": {},
   "source": [
    "What is a baseline and how is it used?"
   ]
  },
  {
   "cell_type": "markdown",
   "id": "f4aaf6fc",
   "metadata": {},
   "source": [
    "What are the first 2 goals we should have when creating a deep learning model?"
   ]
  },
  {
   "cell_type": "markdown",
   "id": "7a816111",
   "metadata": {},
   "source": [
    "What are some ways to deal with overfitting?"
   ]
  },
  {
   "cell_type": "markdown",
   "id": "c849553c",
   "metadata": {},
   "source": [
    "What are some common problems when training a model and how can they be overcome?"
   ]
  },
  {
   "cell_type": "markdown",
   "id": "f691c135-4a76-4a88-b61a-908bf35a84af",
   "metadata": {},
   "source": [
    "Transfer learning/Fine-tuning\n",
    " - what is it? why do we do it?\n",
    " - import pre-trained model\n",
    " - build a new model using all or part of pre-trained model\n",
    " - freeze parameters"
   ]
  },
  {
   "cell_type": "markdown",
   "id": "01bd846f-1b16-4dd5-bc90-69138b4b2998",
   "metadata": {},
   "source": [
    "Data augmentation\n",
    " - what is it? why do we do it?\n",
    " - how to create a data augmentation layer\n"
   ]
  },
  {
   "cell_type": "code",
   "execution_count": null,
   "id": "00460c19-c760-45e1-bb80-15116bc6ce57",
   "metadata": {},
   "outputs": [],
   "source": []
  },
  {
   "cell_type": "code",
   "execution_count": null,
   "id": "48fd2690",
   "metadata": {},
   "outputs": [],
   "source": [
    "\n",
    "import numpy as np\n",
    "from scipy.signal import convolve2d\n",
    "\n",
    "# Sample input data (randomly generated matrix)\n",
    "input_data = np.random.rand(5, 5)  # Example 5x5 input matrix\n",
    "\n",
    "# Convolution filter (3x3 matrix example)\n",
    "filter_3x3 = np.array([[1, 0, -1], [1, 0, -1], [1, 0, -1]])\n",
    "\n",
    "# Perform convolution with 'valid' padding\n",
    "conv_valid = convolve2d(input_data, filter_3x3, mode='valid')\n",
    "\n",
    "# Perform convolution with 'same' padding\n",
    "conv_same = convolve2d(input_data, filter_3x3, mode='same')\n",
    "\n",
    "conv_valid, conv_same\n"
   ]
  },
  {
   "cell_type": "code",
   "execution_count": null,
   "id": "f9d7093f",
   "metadata": {},
   "outputs": [],
   "source": [
    "\n",
    "from skimage.measure import block_reduce\n",
    "\n",
    "# Max Pooling operation (example with 2x2 pool size and stride 2)\n",
    "pool_size = (2, 2)\n",
    "input_data_pool = np.random.rand(4, 4)  # Example 4x4 input for pooling\n",
    "\n",
    "max_pooled = block_reduce(input_data_pool, block_size=pool_size, func=np.max)\n",
    "avg_pooled = block_reduce(input_data_pool, block_size=pool_size, func=np.mean)\n",
    "\n",
    "max_pooled, avg_pooled\n"
   ]
  },
  {
   "cell_type": "code",
   "execution_count": null,
   "id": "108c1138",
   "metadata": {},
   "outputs": [],
   "source": [
    "\n",
    "# Sample CNN layer parameter calculations\n",
    "\n",
    "# Function to calculate parameters for Conv2D layer\n",
    "def conv2d_params(filters, kernel_size, input_channels):\n",
    "    return (kernel_size[0] * kernel_size[1] * input_channels + 1) * filters\n",
    "\n",
    "# Example: 32 filters, 3x3 kernel, 3 input channels\n",
    "conv_params_example = conv2d_params(filters=32, kernel_size=(3, 3), input_channels=3)\n",
    "conv_params_example\n"
   ]
  },
  {
   "cell_type": "code",
   "execution_count": null,
   "id": "7d84916b",
   "metadata": {},
   "outputs": [],
   "source": [
    "\n",
    "import tensorflow as tf\n",
    "from tensorflow.keras import layers, models\n",
    "\n",
    "# Sequential Model\n",
    "seq_model = models.Sequential([\n",
    "    layers.Conv2D(32, (3, 3), activation='relu', input_shape=(28, 28, 1)),\n",
    "    layers.MaxPooling2D((2, 2)),\n",
    "    layers.Flatten(),\n",
    "    layers.Dense(64, activation='relu'),\n",
    "    layers.Dense(10, activation='softmax')\n",
    "])\n",
    "\n",
    "# Functional Model\n",
    "input_layer = layers.Input(shape=(28, 28, 1))\n",
    "x = layers.Conv2D(32, (3, 3), activation='relu')(input_layer)\n",
    "x = layers.MaxPooling2D((2, 2))(x)\n",
    "x = layers.Flatten()(x)\n",
    "x = layers.Dense(64, activation='relu')(x)\n",
    "output_layer = layers.Dense(10, activation='softmax')(x)\n",
    "\n",
    "func_model = models.Model(inputs=input_layer, outputs=output_layer)\n",
    "\n",
    "# Display model summaries\n",
    "seq_model.summary(), func_model.summary()\n"
   ]
  },
  {
   "cell_type": "markdown",
   "id": "d9c752d7",
   "metadata": {},
   "source": [
    "\n",
    "### Theory Questions\n",
    "\n",
    "1. **Padding Types**:\n",
    "   - **Valid Padding**: No padding; output size is smaller than input.\n",
    "   - **Same Padding**: Padding added to keep output size equal to input size.\n",
    "\n",
    "2. **Strides**:\n",
    "   - Strides control how the filter moves over the input. Larger strides reduce output size, extracting fewer features.\n",
    "\n",
    "3. **Receptive Fields**:\n",
    "   - The region in the input that affects a single unit in the output. Increases with layer depth in CNNs.\n",
    "\n",
    "4. **Pooling Layers**:\n",
    "   - **Max Pooling**: Takes maximum value in a region; helps reduce size and complexity.\n",
    "   - **Average Pooling**: Takes average of values in a region; used less often in modern CNNs.\n",
    "\n",
    "5. **Hyperparameters**:\n",
    "   - Kernel size, number of filters, padding type, strides, and pooling type. Hyperparameters are key for model performance and are often tuned for optimization.\n"
   ]
  }
 ],
 "metadata": {
  "kernelspec": {
   "display_name": ".venv",
   "language": "python",
   "name": "python3"
  },
  "language_info": {
   "codemirror_mode": {
    "name": "ipython",
    "version": 3
   },
   "file_extension": ".py",
   "mimetype": "text/x-python",
   "name": "python",
   "nbconvert_exporter": "python",
   "pygments_lexer": "ipython3",
   "version": "3.12.3"
  }
 },
 "nbformat": 4,
 "nbformat_minor": 5
}
